{
 "cells": [
  {
   "cell_type": "markdown",
   "id": "c89a180a",
   "metadata": {
    "id": "c89a180a"
   },
   "source": [
    "**Autor** : Jeferson Magalhães dos Santos\n",
    "\n",
    "**e-mail**: jefersonmdossantos@gmail.com\n",
    "    \n",
    "**github**: jefersonmglh"
   ]
  },
  {
   "cell_type": "markdown",
   "id": "430d910c",
   "metadata": {
    "id": "430d910c"
   },
   "source": [
    "#  <a name=\"indice\">  Índice </a>"
   ]
  },
  {
   "cell_type": "markdown",
   "id": "346b5f94",
   "metadata": {
    "id": "346b5f94"
   },
   "source": [
    "* [Resumo](#resumo)\n",
    "* [1. Importação de pacotes e dados](#import)\n",
    "* [2. Análise preliminar](#visualizacao)\n",
    "* [3. Tratamento](#tratamento)\n",
    "* [4. Correlação e Associação](#corr)\n",
    "* [5. Treinamento do modelo de aprendizado](#modelo)\n",
    "* [6. Avaliação do modelo](#avaliacao)\n",
    "* [7. Aprimoramento do modelo](#aprimoramento)\n",
    "* [8. Conclusão](#conclusao)"
   ]
  },
  {
   "cell_type": "markdown",
   "id": "c765e147",
   "metadata": {
    "id": "c765e147"
   },
   "source": [
    "#  <a name=\"resumo\"> RESUMO </a>\n",
    "[Voltar ao índice](#indice)\n",
    "\n",
    "\"\""
   ]
  },
  {
   "cell_type": "markdown",
   "id": "924614e8",
   "metadata": {
    "id": "924614e8"
   },
   "source": [
    "#  <a name=\"import\">1. Importação de pacotes e dados </a>\n",
    "[Voltar ao índice](#indice)"
   ]
  },
  {
   "cell_type": "code",
   "execution_count": 3,
   "id": "752ce3dd",
   "metadata": {
    "executionInfo": {
     "elapsed": 9,
     "status": "ok",
     "timestamp": 1669923539951,
     "user": {
      "displayName": "Jeferson Magalhães",
      "userId": "04914178772468866203"
     },
     "user_tz": 180
    },
    "id": "752ce3dd"
   },
   "outputs": [],
   "source": [
    "#basic\n",
    "import pandas as pd\n",
    "import numpy as np\n",
    "import warnings\n",
    "warnings.filterwarnings('ignore')\n",
    "\n",
    "#graph\n",
    "import matplotlib.pyplot as plt\n",
    "import seaborn as sns\n",
    "import missingno as msno\n",
    "# import chart_studio.plotly as cplt\n",
    "# import plotly.graph_objs as go\n",
    "\n",
    "# #model&metrics\n",
    "# from sklearn.model_selection import train_test_split\n",
    "# from sklearn import metrics\n",
    "# from sklearn.metrics import roc_curve, auc, precision_recall_fscore_support, classification_report\n",
    "# from scipy.stats import chi2, chi2_contingency, iqr, pearsonr\n",
    "# from sklearn.preprocessing import StandardScaler\n",
    "\n",
    "\n"
   ]
  },
  {
   "cell_type": "code",
   "execution_count": null,
   "id": "83749100",
   "metadata": {
    "colab": {
     "base_uri": "https://localhost:8080/",
     "height": 0
    },
    "executionInfo": {
     "elapsed": 83729,
     "status": "ok",
     "timestamp": 1669924107571,
     "user": {
      "displayName": "Jeferson Magalhães",
      "userId": "04914178772468866203"
     },
     "user_tz": 180
    },
    "id": "83749100",
    "outputId": "0697f632-1488-41fe-a8d2-55181a02cc9d"
   },
   "outputs": [],
   "source": [
    "path = \"./microdados_enem_2021/DADOS/MICRODADOS_ENEM_2021.csv\"\n",
    "df = pd.read_csv(path, encoding = \"ISO-8859-1\", delimiter=';')\n",
    "df.head()"
   ]
  },
  {
   "cell_type": "code",
   "execution_count": null,
   "id": "1418f7ed",
   "metadata": {},
   "outputs": [],
   "source": [
    "basic_columns = ['TP_FAIXA_ETARIA', 'TP_SEXO', 'TP_ESTADO_CIVIL', 'TP_COR_RACA', 'TP_NACIONALIDADE', 'TP_ANO_CONCLUIU', 'TP_ESCOLA', 'TP_ENSINO','IN_TREINEIRO', 'SG_UF_ESC','TP_DEPENDENCIA_ADM_ESC','TP_LOCALIZACAO_ESC', 'TP_SIT_FUNC_ESC','NU_NOTA_CN','NU_NOTA_CH','NU_NOTA_LC','NU_NOTA_MT']\n",
    "socio_q_columns = ['Q001', 'Q002', 'Q003', 'Q004', 'Q005', 'Q006', 'Q007', 'Q008', 'Q009', 'Q010', 'Q011', 'Q012', 'Q013', 'Q014', 'Q015', 'Q016', 'Q017', 'Q018', 'Q019', 'Q020', 'Q021', 'Q022', 'Q023', 'Q024', 'Q025']\n",
    "x = basic_columns + socio_q_columns\n",
    "df = df[x]\n",
    "df.head()"
   ]
  },
  {
   "cell_type": "code",
   "execution_count": null,
   "id": "0b1a2490",
   "metadata": {},
   "outputs": [],
   "source": [
    "df.to_csv('microdados_enem_2021_clean.csv',index=False)"
   ]
  },
  {
   "cell_type": "code",
   "execution_count": null,
   "id": "a665e44d",
   "metadata": {
    "id": "a665e44d"
   },
   "outputs": [],
   "source": []
  }
 ],
 "metadata": {
  "colab": {
   "provenance": []
  },
  "kernelspec": {
   "display_name": "Python 3 (ipykernel)",
   "language": "python",
   "name": "python3"
  },
  "language_info": {
   "codemirror_mode": {
    "name": "ipython",
    "version": 3
   },
   "file_extension": ".py",
   "mimetype": "text/x-python",
   "name": "python",
   "nbconvert_exporter": "python",
   "pygments_lexer": "ipython3",
   "version": "3.9.13"
  }
 },
 "nbformat": 4,
 "nbformat_minor": 5
}
